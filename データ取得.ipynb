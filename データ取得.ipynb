{
 "cells": [
  {
   "cell_type": "code",
   "execution_count": 7,
   "metadata": {},
   "outputs": [],
   "source": [
    "import time\n",
    "import json\n",
    "import time\n",
    "from riotwatcher import LolWatcher, ApiError, RiotWatcher"
   ]
  },
  {
   "cell_type": "code",
   "execution_count": 9,
   "metadata": {},
   "outputs": [],
   "source": [
    "# グローバル変数を初期化\n",
    "request_count = 0  # 現在のリクエスト数\n",
    "start_time = time.time()  # 開始時間（秒）\n",
    "\n",
    "def rate_limit_request(request_func, *args, **kwargs):\n",
    "\n",
    "    global request_count, start_time\n",
    "\n",
    "    elapsed_time = time.time() - start_time  # 経過時間を計算\n",
    "\n",
    "    # 1秒あたり20リクエスト制限\n",
    "    if request_count >= 20 and elapsed_time < 1:\n",
    "        time.sleep(1 - elapsed_time)  # 必要に応じて1秒まで待機\n",
    "        start_time = time.time()  # 開始時間をリセット\n",
    "        request_count = 0  # カウントをリセット\n",
    "\n",
    "    # 2分あたり100リクエスト制限\n",
    "    if request_count % 100 == 0 and request_count != 0 and elapsed_time < 120:\n",
    "        time.sleep(120 - elapsed_time)  # 必要に応じて2分まで待機\n",
    "        start_time = time.time()  # 開始時間をリセット\n",
    "\n",
    "    request_count += 1  # リクエストカウントを増加\n",
    "    return request_func(*args, **kwargs)  # リクエストを実行\n"
   ]
  },
  {
   "cell_type": "code",
   "execution_count": 10,
   "metadata": {},
   "outputs": [],
   "source": [
    "api_key = \"RGAPI-fe0e79a5-8114-4e91-a0d7-ce6c6e57f5b6\"\n",
    "region = \"asia\"\n",
    "\n",
    "riotwatcher = RiotWatcher(api_key)\n",
    "lolwatcher = LolWatcher(api_key)"
   ]
  },
  {
   "cell_type": "code",
   "execution_count": 11,
   "metadata": {},
   "outputs": [],
   "source": [
    "# プレイヤー情報（名前とタグライン）\n",
    "players = [\n",
    "    {\"name\": \"민철이여친구함\", \"tagline\": \"0415\"},\n",
    "    {\"name\": \"M G\", \"tagline\": \"2821\"},\n",
    "    {\"name\": \"DK ShowMaker\", \"tagline\": \"KR1\"},\n",
    "    {\"name\": \"Yondaime\", \"tagline\": \"Luo\"},\n",
    "    {\"name\": \"FATE\", \"tagline\": \"KR2\"},\n",
    "]"
   ]
  },
  {
   "cell_type": "code",
   "execution_count": null,
   "metadata": {},
   "outputs": [],
   "source": [
    "# 1. PUUIDを取得\n",
    "puuids = {}  # プレイヤー名をキーにPUUIDを保存\n",
    "for player in players:\n",
    "    pu = riotwatcher.account.by_riot_id(region=region, game_name=player['name'], tag_line=player['tagline'])\n",
    "    puuids[player['name']] = pu['puuid'] \n",
    "    print(f\" {player['name']}: {pu['puuid']}\")\n"
   ]
  },
  {
   "cell_type": "code",
   "execution_count": null,
   "metadata": {},
   "outputs": [],
   "source": [
    "# 2. 直近500試合のマッチIDを取得\n",
    "match_ids = {player['name']: [] for player in players}  # プレイヤー名をキーに試合IDリストを保存\n",
    "\n",
    "for player in players:\n",
    "    puuid = puuids.get(player['name'])\n",
    "    for start in range(0, 500, 100):\n",
    "        # PUUIDを使って試合リストを取得\n",
    "        matches = lolwatcher.match.matchlist_by_puuid(region=region, puuid=puuid, start=start, count=100)\n",
    "        match_ids[player['name']].extend(matches)\n",
    "\n",
    "# 結果を表示\n",
    "total_matches = sum(len(matches) for matches in match_ids.values())  # 合計試合数を計算\n",
    "\n",
    "print(f\"合計取得された試合ID数: {total_matches}\")\n",
    "for name, matches in match_ids.items():\n",
    "    print(f\"Player: {name}, Match IDの数: {len(matches)}\")\n",
    "    print(f\"Match IDs: {matches}\")"
   ]
  },
  {
   "cell_type": "code",
   "execution_count": null,
   "metadata": {},
   "outputs": [],
   "source": [
    "# 出力先のJSONファイル\n",
    "output_file = 'match_data.json'\n",
    "\n",
    "# JSONファイルを初期化（空のリストを作成）\n",
    "with open(output_file, 'w', encoding='utf-8') as file:\n",
    "    file.write('[')  # JSON配列の開始\n",
    "\n",
    "# 全ての試合IDをリストとして取得\n",
    "all_match_ids = [match_id for match_list in match_ids.values() for match_id in match_list]\n",
    "\n",
    "# 全試合データを取得して保存\n",
    "for index, match_id in enumerate(all_match_ids):\n",
    "    # 試合データを取得\n",
    "    match_data = lolwatcher.match.by_id(region=region, match_id=match_id)\n",
    "\n",
    "    # 試合データを保存\n",
    "    with open(output_file, 'a', encoding='utf-8') as file:\n",
    "        if index > 0:  # 最初の試合データ以外はカンマを追加\n",
    "            file.write(',\\n')\n",
    "        json.dump(match_data, file, ensure_ascii=False, indent=4)\n",
    "\n",
    "    print(f\"Match ID {match_id} 保存完了 ({index + 1}/{len(all_match_ids)})\")\n",
    "\n",
    "# JSON配列の終了部分を追加\n",
    "with open(output_file, 'a', encoding='utf-8') as file:\n",
    "    file.write('\\n]')  # JSON配列の終了\n",
    "\n",
    "print(\"全ての試合データの保存完了\")\n"
   ]
  },
  {
   "cell_type": "code",
   "execution_count": null,
   "metadata": {},
   "outputs": [],
   "source": [
    "# 出力先のJSONファイル\n",
    "output_file = 'timeline_data.json'\n",
    "\n",
    "# JSONファイルを初期化（空のリストを作成）\n",
    "with open(output_file, 'w', encoding='utf-8') as file:\n",
    "    file.write('[')  # JSON配列の開始\n",
    "\n",
    "# 全ての試合IDをリストとして取得\n",
    "all_match_ids = [match_id for match_list in match_ids.values() for match_id in match_list]\n",
    "\n",
    "# 全試合データを取得して保存\n",
    "for index, match_id in enumerate(all_match_ids):\n",
    "    # 試合データを取得\n",
    "    timeline_data = lolwatcher.match.timeline_by_match(region=region, match_id=match_id)\n",
    "\n",
    "    # 試合データを保存\n",
    "    with open(output_file, 'a', encoding='utf-8') as file:\n",
    "        if index > 0:  # 最初の試合データ以外はカンマを追加\n",
    "            file.write(',\\n')\n",
    "        json.dump(timeline_data, file, ensure_ascii=False, indent=4)\n",
    "\n",
    "    print(f\"Match ID {match_id} 保存完了 ({index + 1}/{len(all_match_ids)})\")\n",
    "\n",
    "# JSON配列の終了部分を追加\n",
    "with open(output_file, 'a', encoding='utf-8') as file:\n",
    "    file.write('\\n]')  # JSON配列の終了\n",
    "\n",
    "print(\"全ての試合データの保存完了\")"
   ]
  }
 ],
 "metadata": {
  "kernelspec": {
   "display_name": "Python 3",
   "language": "python",
   "name": "python3"
  },
  "language_info": {
   "codemirror_mode": {
    "name": "ipython",
    "version": 3
   },
   "file_extension": ".py",
   "mimetype": "text/x-python",
   "name": "python",
   "nbconvert_exporter": "python",
   "pygments_lexer": "ipython3",
   "version": "3.13.0"
  }
 },
 "nbformat": 4,
 "nbformat_minor": 2
}
